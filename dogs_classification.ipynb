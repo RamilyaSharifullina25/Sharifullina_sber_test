{
  "nbformat": 4,
  "nbformat_minor": 0,
  "metadata": {
    "colab": {
      "name": "dogs_classification.ipynb",
      "provenance": [],
      "collapsed_sections": []
    },
    "kernelspec": {
      "name": "python3",
      "display_name": "Python 3"
    },
    "language_info": {
      "name": "python"
    },
    "accelerator": "GPU",
    "gpuClass": "standard"
  },
  "cells": [
    {
      "cell_type": "markdown",
      "source": [
        "## Тестовое заадание от Сбер IDP.  \n",
        "Выполненно Шарифуллиной Рамилей в Google Colab.\n"
      ],
      "metadata": {
        "id": "AUCrJaX4m5t2"
      }
    },
    {
      "cell_type": "markdown",
      "source": [
        "### Import modules"
      ],
      "metadata": {
        "id": "73ru57EQwR7w"
      }
    },
    {
      "cell_type": "code",
      "execution_count": 1,
      "metadata": {
        "id": "ztgDKo1EcWy5"
      },
      "outputs": [],
      "source": [
        "import torch\n",
        "import torch.nn as nn\n",
        "from torch.utils.data.dataloader import Dataset, DataLoader\n",
        "import torch.optim as optim\n",
        "from torchvision import transforms, models\n",
        "from torchvision.datasets import ImageFolder\n",
        "from skimage import io\n",
        "import matplotlib.pyplot as plt\n",
        "\n",
        "import os\n",
        "import pandas as pd"
      ]
    },
    {
      "cell_type": "code",
      "source": [
        "# зададим переменную `device` \n",
        "device = torch.device(\"cuda:0\" if torch.cuda.is_available() else \"cpu\")\n",
        "device"
      ],
      "metadata": {
        "colab": {
          "base_uri": "https://localhost:8080/"
        },
        "id": "kS87rGoUxf9I",
        "outputId": "37d496f5-902b-4477-b4ea-76290db1218b"
      },
      "execution_count": 2,
      "outputs": [
        {
          "output_type": "execute_result",
          "data": {
            "text/plain": [
              "device(type='cuda', index=0)"
            ]
          },
          "metadata": {},
          "execution_count": 2
        }
      ]
    },
    {
      "cell_type": "markdown",
      "source": [
        "### Data extraction"
      ],
      "metadata": {
        "id": "BRSvXN33vCVm"
      }
    },
    {
      "cell_type": "code",
      "source": [
        "# датасет лежит на моем гугл диске, он открыт для скачивания \n",
        "!mkdir datasets\n",
        "!gdown --id 1-1p8EFtIQ_wjmY9yiKMUtUxBdI4mv5C0 -O datasets/imagewoof2.tgz\n",
        "!tar -xzf datasets/imagewoof2.tgz -C datasets\n",
        "!rm datasets/imagewoof2.tgz"
      ],
      "metadata": {
        "colab": {
          "base_uri": "https://localhost:8080/"
        },
        "id": "0pDzmQAbvBAW",
        "outputId": "8b84c032-4253-4064-a9df-68efe2359584"
      },
      "execution_count": 3,
      "outputs": [
        {
          "output_type": "stream",
          "name": "stdout",
          "text": [
            "mkdir: cannot create directory ‘datasets’: File exists\n",
            "/usr/local/lib/python3.7/dist-packages/gdown/cli.py:131: FutureWarning: Option `--id` was deprecated in version 4.3.1 and will be removed in 5.0. You don't need to pass it anymore to use a file ID.\n",
            "  category=FutureWarning,\n",
            "Downloading...\n",
            "From: https://drive.google.com/uc?id=1-1p8EFtIQ_wjmY9yiKMUtUxBdI4mv5C0\n",
            "To: /content/datasets/imagewoof2.tgz\n",
            "100% 1.34G/1.34G [00:09<00:00, 138MB/s]\n"
          ]
        }
      ]
    },
    {
      "cell_type": "code",
      "source": [
        "source_dir = '/content/datasets/imagewoof2' # путь к папке всего датасета\n",
        "train_dir = os.path.join(source_dir, 'train') # путь к папке трейнового датасета\n",
        "val_dir = os.path.join(source_dir, 'val') # путь к папке датасета для валидации\n",
        "csv_file_dir = os.path.join(source_dir, 'noisy_imagewoof.csv') # путь к csv файлу\n",
        "\n",
        "labels_csv = pd.read_csv(csv_file_dir) \n",
        "labels_csv.head()"
      ],
      "metadata": {
        "colab": {
          "base_uri": "https://localhost:8080/",
          "height": 270
        },
        "id": "F2_hzepJrB53",
        "outputId": "35872ffe-348a-4b9f-f6e8-ccf999c298c6"
      },
      "execution_count": 4,
      "outputs": [
        {
          "output_type": "execute_result",
          "data": {
            "text/plain": [
              "                                   path noisy_labels_0 noisy_labels_1  \\\n",
              "0   train/n02115641/n02115641_3995.JPEG      n02115641      n02115641   \n",
              "1    train/n02115641/n02115641_843.JPEG      n02115641      n02115641   \n",
              "2   train/n02115641/n02115641_2953.JPEG      n02115641      n02115641   \n",
              "3   train/n02115641/n02115641_6458.JPEG      n02115641      n02115641   \n",
              "4  train/n02115641/n02115641_19414.JPEG      n02115641      n02115641   \n",
              "\n",
              "  noisy_labels_5 noisy_labels_25 noisy_labels_50  is_valid  \n",
              "0      n02115641       n02115641       n02115641     False  \n",
              "1      n02105641       n02115641       n02088364     False  \n",
              "2      n02115641       n02111889       n02099601     False  \n",
              "3      n02115641       n02093754       n02115641     False  \n",
              "4      n02115641       n02115641       n02088364     False  "
            ],
            "text/html": [
              "\n",
              "  <div id=\"df-05609743-fd01-4d4c-91f9-9f0259912c4b\">\n",
              "    <div class=\"colab-df-container\">\n",
              "      <div>\n",
              "<style scoped>\n",
              "    .dataframe tbody tr th:only-of-type {\n",
              "        vertical-align: middle;\n",
              "    }\n",
              "\n",
              "    .dataframe tbody tr th {\n",
              "        vertical-align: top;\n",
              "    }\n",
              "\n",
              "    .dataframe thead th {\n",
              "        text-align: right;\n",
              "    }\n",
              "</style>\n",
              "<table border=\"1\" class=\"dataframe\">\n",
              "  <thead>\n",
              "    <tr style=\"text-align: right;\">\n",
              "      <th></th>\n",
              "      <th>path</th>\n",
              "      <th>noisy_labels_0</th>\n",
              "      <th>noisy_labels_1</th>\n",
              "      <th>noisy_labels_5</th>\n",
              "      <th>noisy_labels_25</th>\n",
              "      <th>noisy_labels_50</th>\n",
              "      <th>is_valid</th>\n",
              "    </tr>\n",
              "  </thead>\n",
              "  <tbody>\n",
              "    <tr>\n",
              "      <th>0</th>\n",
              "      <td>train/n02115641/n02115641_3995.JPEG</td>\n",
              "      <td>n02115641</td>\n",
              "      <td>n02115641</td>\n",
              "      <td>n02115641</td>\n",
              "      <td>n02115641</td>\n",
              "      <td>n02115641</td>\n",
              "      <td>False</td>\n",
              "    </tr>\n",
              "    <tr>\n",
              "      <th>1</th>\n",
              "      <td>train/n02115641/n02115641_843.JPEG</td>\n",
              "      <td>n02115641</td>\n",
              "      <td>n02115641</td>\n",
              "      <td>n02105641</td>\n",
              "      <td>n02115641</td>\n",
              "      <td>n02088364</td>\n",
              "      <td>False</td>\n",
              "    </tr>\n",
              "    <tr>\n",
              "      <th>2</th>\n",
              "      <td>train/n02115641/n02115641_2953.JPEG</td>\n",
              "      <td>n02115641</td>\n",
              "      <td>n02115641</td>\n",
              "      <td>n02115641</td>\n",
              "      <td>n02111889</td>\n",
              "      <td>n02099601</td>\n",
              "      <td>False</td>\n",
              "    </tr>\n",
              "    <tr>\n",
              "      <th>3</th>\n",
              "      <td>train/n02115641/n02115641_6458.JPEG</td>\n",
              "      <td>n02115641</td>\n",
              "      <td>n02115641</td>\n",
              "      <td>n02115641</td>\n",
              "      <td>n02093754</td>\n",
              "      <td>n02115641</td>\n",
              "      <td>False</td>\n",
              "    </tr>\n",
              "    <tr>\n",
              "      <th>4</th>\n",
              "      <td>train/n02115641/n02115641_19414.JPEG</td>\n",
              "      <td>n02115641</td>\n",
              "      <td>n02115641</td>\n",
              "      <td>n02115641</td>\n",
              "      <td>n02115641</td>\n",
              "      <td>n02088364</td>\n",
              "      <td>False</td>\n",
              "    </tr>\n",
              "  </tbody>\n",
              "</table>\n",
              "</div>\n",
              "      <button class=\"colab-df-convert\" onclick=\"convertToInteractive('df-05609743-fd01-4d4c-91f9-9f0259912c4b')\"\n",
              "              title=\"Convert this dataframe to an interactive table.\"\n",
              "              style=\"display:none;\">\n",
              "        \n",
              "  <svg xmlns=\"http://www.w3.org/2000/svg\" height=\"24px\"viewBox=\"0 0 24 24\"\n",
              "       width=\"24px\">\n",
              "    <path d=\"M0 0h24v24H0V0z\" fill=\"none\"/>\n",
              "    <path d=\"M18.56 5.44l.94 2.06.94-2.06 2.06-.94-2.06-.94-.94-2.06-.94 2.06-2.06.94zm-11 1L8.5 8.5l.94-2.06 2.06-.94-2.06-.94L8.5 2.5l-.94 2.06-2.06.94zm10 10l.94 2.06.94-2.06 2.06-.94-2.06-.94-.94-2.06-.94 2.06-2.06.94z\"/><path d=\"M17.41 7.96l-1.37-1.37c-.4-.4-.92-.59-1.43-.59-.52 0-1.04.2-1.43.59L10.3 9.45l-7.72 7.72c-.78.78-.78 2.05 0 2.83L4 21.41c.39.39.9.59 1.41.59.51 0 1.02-.2 1.41-.59l7.78-7.78 2.81-2.81c.8-.78.8-2.07 0-2.86zM5.41 20L4 18.59l7.72-7.72 1.47 1.35L5.41 20z\"/>\n",
              "  </svg>\n",
              "      </button>\n",
              "      \n",
              "  <style>\n",
              "    .colab-df-container {\n",
              "      display:flex;\n",
              "      flex-wrap:wrap;\n",
              "      gap: 12px;\n",
              "    }\n",
              "\n",
              "    .colab-df-convert {\n",
              "      background-color: #E8F0FE;\n",
              "      border: none;\n",
              "      border-radius: 50%;\n",
              "      cursor: pointer;\n",
              "      display: none;\n",
              "      fill: #1967D2;\n",
              "      height: 32px;\n",
              "      padding: 0 0 0 0;\n",
              "      width: 32px;\n",
              "    }\n",
              "\n",
              "    .colab-df-convert:hover {\n",
              "      background-color: #E2EBFA;\n",
              "      box-shadow: 0px 1px 2px rgba(60, 64, 67, 0.3), 0px 1px 3px 1px rgba(60, 64, 67, 0.15);\n",
              "      fill: #174EA6;\n",
              "    }\n",
              "\n",
              "    [theme=dark] .colab-df-convert {\n",
              "      background-color: #3B4455;\n",
              "      fill: #D2E3FC;\n",
              "    }\n",
              "\n",
              "    [theme=dark] .colab-df-convert:hover {\n",
              "      background-color: #434B5C;\n",
              "      box-shadow: 0px 1px 3px 1px rgba(0, 0, 0, 0.15);\n",
              "      filter: drop-shadow(0px 1px 2px rgba(0, 0, 0, 0.3));\n",
              "      fill: #FFFFFF;\n",
              "    }\n",
              "  </style>\n",
              "\n",
              "      <script>\n",
              "        const buttonEl =\n",
              "          document.querySelector('#df-05609743-fd01-4d4c-91f9-9f0259912c4b button.colab-df-convert');\n",
              "        buttonEl.style.display =\n",
              "          google.colab.kernel.accessAllowed ? 'block' : 'none';\n",
              "\n",
              "        async function convertToInteractive(key) {\n",
              "          const element = document.querySelector('#df-05609743-fd01-4d4c-91f9-9f0259912c4b');\n",
              "          const dataTable =\n",
              "            await google.colab.kernel.invokeFunction('convertToInteractive',\n",
              "                                                     [key], {});\n",
              "          if (!dataTable) return;\n",
              "\n",
              "          const docLinkHtml = 'Like what you see? Visit the ' +\n",
              "            '<a target=\"_blank\" href=https://colab.research.google.com/notebooks/data_table.ipynb>data table notebook</a>'\n",
              "            + ' to learn more about interactive tables.';\n",
              "          element.innerHTML = '';\n",
              "          dataTable['output_type'] = 'display_data';\n",
              "          await google.colab.output.renderOutput(dataTable, element);\n",
              "          const docLink = document.createElement('div');\n",
              "          docLink.innerHTML = docLinkHtml;\n",
              "          element.appendChild(docLink);\n",
              "        }\n",
              "      </script>\n",
              "    </div>\n",
              "  </div>\n",
              "  "
            ]
          },
          "metadata": {},
          "execution_count": 4
        }
      ]
    },
    {
      "cell_type": "markdown",
      "source": [
        "### Dataset and DataLoader"
      ],
      "metadata": {
        "id": "68fvSnMCwITU"
      }
    },
    {
      "cell_type": "code",
      "source": [
        "# классы были наименованы согласно описанию датасета в https://github.com/fastai/imagenette\n",
        "classes = ['Australian terrier', \n",
        "           'Border terrier', \n",
        "           'Samoyed', \n",
        "           'Beagle', \n",
        "           'Shih-Tzu', \n",
        "           'English foxhound', \n",
        "           'Rhodesian ridgeback', \n",
        "           'Dingo', \n",
        "           'Golden retriever', \n",
        "           'Old English sheepdog']"
      ],
      "metadata": {
        "id": "sWmM5mckyeQN"
      },
      "execution_count": 5,
      "outputs": []
    },
    {
      "cell_type": "code",
      "source": [
        "# # пропишем кастомный Dataset\n",
        "\n",
        "# class Imagewoof2_dataset(Dataset):\n",
        "#   def __init__(self, \n",
        "#                mode_dir, \n",
        "#                transform,\n",
        "#                csv_file,\n",
        "#                mode):\n",
        "    \n",
        "#     self.mode_dir = mode_dir\n",
        "#     self.transform = transform\n",
        "#     self.csv_file = pd.read_csv(csv_file)\n",
        "#     self.mode = mode\n",
        "\n",
        "#   def __len__(self):\n",
        "#     return len(self.csv_file)\n",
        "\n",
        "#   def __getitem__(self, idx):\n",
        "#     if self.csv_file.path.iloc[idx].split('/')[0] == self.mode:\n",
        "#       image_name = os.path.join(self.mode_dir, \n",
        "#                                 self.csv_file.path.iloc[idx].split('/')[1],\n",
        "#                                 self.csv_file.path.iloc[idx].split('/')[2])\n",
        "#       image = io.imread(image_name)\n",
        "#       if self.transform:\n",
        "#         image = self.transform(image)\n",
        "#       label = image_name\n",
        "#       return image, label\n",
        "    "
      ],
      "metadata": {
        "id": "lwJyD29mcsma"
      },
      "execution_count": 6,
      "outputs": []
    },
    {
      "cell_type": "code",
      "source": [
        "# transform - аугментация изображений\n",
        "\n",
        "transform = transforms.Compose([transforms.CenterCrop(256),\n",
        "                                transforms.ToTensor(),\n",
        "                                transforms.Normalize([0.485, 0.456, 0.406], [0.229, 0.224, 0.225])\n",
        "                                ])"
      ],
      "metadata": {
        "id": "OteuAPJOwyvq"
      },
      "execution_count": 7,
      "outputs": []
    },
    {
      "cell_type": "code",
      "source": [
        "# check - подгрузим dataset и dataloader, чтобы передавать данные в модель\n",
        "batch_size = 64\n",
        "train_ds = ImageFolder(train_dir, transform)\n",
        "train_dl = DataLoader(train_ds, batch_size, shuffle = True)\n",
        "\n",
        "val_ds = ImageFolder(val_dir, transform)\n",
        "val_dl = DataLoader(val_ds, batch_size, shuffle = True)\n",
        "\n",
        "for idx, data in enumerate(val_dl):\n",
        "  print(data[0].shape)\n",
        "  print(data[1])\n",
        "  break"
      ],
      "metadata": {
        "colab": {
          "base_uri": "https://localhost:8080/"
        },
        "id": "TRulFbtd67Mq",
        "outputId": "87660147-33d5-4e2c-97a1-5f436d272543"
      },
      "execution_count": 8,
      "outputs": [
        {
          "output_type": "stream",
          "name": "stdout",
          "text": [
            "torch.Size([64, 3, 256, 256])\n",
            "tensor([1, 8, 2, 1, 7, 2, 2, 1, 6, 4, 9, 1, 0, 9, 7, 1, 8, 1, 2, 5, 1, 7, 4, 2,\n",
            "        0, 9, 4, 9, 5, 2, 1, 5, 7, 0, 8, 7, 0, 2, 4, 5, 9, 9, 6, 4, 4, 8, 7, 4,\n",
            "        5, 6, 2, 5, 7, 1, 6, 0, 1, 4, 8, 8, 4, 0, 7, 7])\n"
          ]
        }
      ]
    },
    {
      "cell_type": "code",
      "source": [
        "# установим соответсвие между номерами классов и названиями в виде словаря (хеш таблица)\n",
        "classes_dict = dict(zip(train_ds.classes, classes))\n",
        "print(classes_dict)"
      ],
      "metadata": {
        "colab": {
          "base_uri": "https://localhost:8080/"
        },
        "id": "uTeZ1wFyp63G",
        "outputId": "fbbd750e-0b9f-4397-d4d0-54ef81b542f8"
      },
      "execution_count": 9,
      "outputs": [
        {
          "output_type": "stream",
          "name": "stdout",
          "text": [
            "{'n02086240': 'Australian terrier', 'n02087394': 'Border terrier', 'n02088364': 'Samoyed', 'n02089973': 'Beagle', 'n02093754': 'Shih-Tzu', 'n02096294': 'English foxhound', 'n02099601': 'Rhodesian ridgeback', 'n02105641': 'Dingo', 'n02111889': 'Golden retriever', 'n02115641': 'Old English sheepdog'}\n"
          ]
        }
      ]
    },
    {
      "cell_type": "markdown",
      "source": [
        "### Accuracy, evaluate, fit and plot accuracy functions"
      ],
      "metadata": {
        "id": "NxcE6YvAEygx"
      }
    },
    {
      "cell_type": "code",
      "source": [
        "# пропишем функции accuracy, train and evaluation для тренировки и оценки качества модели\n",
        "# так же пропишем функцию plot_accuracy, которая показывает, как хорошо модель\n",
        "def accuracy(preds, labels):\n",
        "    preds = torch.argmax(preds, dim=1)\n",
        "    return torch.tensor(torch.sum(preds == labels).item() / len(preds))"
      ],
      "metadata": {
        "id": "lN28yDqActBc"
      },
      "execution_count": 10,
      "outputs": []
    },
    {
      "cell_type": "code",
      "source": [
        "def evaluate(model, criterion, val_loader):\n",
        "  # model = model.to(device)\n",
        "  model.eval()\n",
        "  loss, acc = [], []\n",
        "  for images, labels in val_loader:\n",
        "    images, labels = images.to(device), labels.to(device)\n",
        "    preds = model(images)\n",
        "    loss.append(criterion(preds, labels).detach())\n",
        "    acc.append(accuracy(preds, labels))\n",
        "  return {'val_loss': torch.stack(loss).mean().item(), \n",
        "          'val_acc': torch.stack(acc).mean().item()}"
      ],
      "metadata": {
        "id": "54GsE67bIXKi"
      },
      "execution_count": 11,
      "outputs": []
    },
    {
      "cell_type": "code",
      "source": [
        "def fit(epochs, model, train_loader, val_loader, criterion, optimizer, device, save_PATH):\n",
        "    history = []\n",
        "    for epoch in range(epochs):\n",
        "        # Training Phase \n",
        "        model = model.to(device)\n",
        "        model.train()\n",
        "        train_losses = []\n",
        "        train_acc = []\n",
        "\n",
        "        for images, labels in train_loader:\n",
        "          images, labels = images.to(device), labels.to(device)\n",
        "          optimizer.zero_grad()\n",
        "          preds = model(images)\n",
        "          loss = criterion(preds, labels)\n",
        "          train_losses.append(loss)\n",
        "          train_acc.append(accuracy(preds, labels))\n",
        "          loss.backward()\n",
        "          optimizer.step()\n",
        "\n",
        "        # Validation phase\n",
        "        result = evaluate(model, criterion, val_loader)\n",
        "        result['train_loss'] = torch.stack(train_losses).mean().item()\n",
        "        result['train_acc'] = torch.stack(train_acc).mean().item()\n",
        "        print(\"Epoch [{}], train_loss: {:.4f}, train_acc: {:.4f}, val_loss: {:.4f}, val_acc: {:.4f}\".format(\n",
        "            epoch, result['train_loss'], result['train_acc'], result['val_loss'], result['val_acc']))\n",
        "        history.append(result)\n",
        "\n",
        "    torch.save(model.state_dict(), save_PATH)\n",
        "    \n",
        "    return history"
      ],
      "metadata": {
        "id": "QERofXvGIXRv"
      },
      "execution_count": 12,
      "outputs": []
    },
    {
      "cell_type": "code",
      "source": [
        "def plot_accuracies(history):\n",
        "  train_acc = [x.get('train_acc') for x in history]\n",
        "  val_acc = [x['val_acc'] for x in history]\n",
        "  plt.plot(train_acc, '-bx')\n",
        "  plt.plot(val_acc, '-rx')\n",
        "  plt.xlabel('epoch')\n",
        "  plt.ylabel('accuracy')\n",
        "  plt.legend(['Training','Validation'])\n",
        "  plt.title('Accuracy vs No. of epoch')\n"
      ],
      "metadata": {
        "id": "zzBqPJPFIXYo"
      },
      "execution_count": 13,
      "outputs": []
    },
    {
      "cell_type": "markdown",
      "source": [
        "### Baseline model \n",
        "За безлайн модель была взята затрейненная на датасете Imagenet модель ResNet18. Воспользуемся идеей transfer learning и перепишем выходной слой  в виде `nn.Linear(num_ftrs, len(classes))`, где `num_ftrs = 1000`, то есть количеству классов в датасете Imagenet, а `len(classes) = 10`, то есть количество классов в требуемом датасете Imagewoof."
      ],
      "metadata": {
        "id": "kHGPAXOexDVt"
      }
    },
    {
      "cell_type": "code",
      "source": [
        "# инициализирование модели\n",
        "resnet_pretrained = models.resnet18(weights = True)\n",
        "num_ftrs = resnet_pretrained.fc.in_features\n",
        "resnet_pretrained.fc = nn.Linear(num_ftrs, len(classes))\n",
        "\n",
        "# инициализирование функции потерь и оптимизатора \n",
        "criterion = nn.CrossEntropyLoss()\n",
        "optimizer_rn_pr = optim.SGD(resnet_pretrained.fc.parameters(), \n",
        "                         lr=1e-2, \n",
        "                         momentum=0.9)"
      ],
      "metadata": {
        "colab": {
          "base_uri": "https://localhost:8080/"
        },
        "id": "xKTVAFNvcs5u",
        "outputId": "819e77eb-4b13-4cbd-e51a-ac01651555c9"
      },
      "execution_count": 26,
      "outputs": [
        {
          "output_type": "stream",
          "name": "stderr",
          "text": [
            "/usr/local/lib/python3.7/dist-packages/torchvision/models/_utils.py:223: UserWarning: Arguments other than a weight enum or `None` for 'weights' are deprecated since 0.13 and will be removed in 0.15. The current behavior is equivalent to passing `weights=ResNet18_Weights.IMAGENET1K_V1`. You can also use `weights=ResNet18_Weights.DEFAULT` to get the most up-to-date weights.\n",
            "  warnings.warn(msg)\n"
          ]
        }
      ]
    },
    {
      "cell_type": "markdown",
      "source": [
        "### Training models and performing their accuracy"
      ],
      "metadata": {
        "id": "KX8I0P8BIkh0"
      }
    },
    {
      "cell_type": "code",
      "source": [
        "# тренировка бейзлайн модели на 10 эпохах\n",
        "num_epochs = 10\n",
        "history_rn_pr = fit(num_epochs, \n",
        "                    resnet_pretrained, \n",
        "                    train_dl, \n",
        "                    val_dl, \n",
        "                    criterion, \n",
        "                    optimizer_rn_pr,\n",
        "                    device,\n",
        "                    save_PATH = 'resnet_pretrained.pt')"
      ],
      "metadata": {
        "id": "LZGaiHGWctIL",
        "colab": {
          "base_uri": "https://localhost:8080/"
        },
        "outputId": "60c68c7e-a6c1-4cc6-d36d-81319c978d82"
      },
      "execution_count": 15,
      "outputs": [
        {
          "output_type": "stream",
          "name": "stdout",
          "text": [
            "Epoch [0], train_loss: 0.5281, train_acc: 0.8347, val_loss: 0.4218, val_acc: 0.8587\n",
            "Epoch [1], train_loss: 0.3826, train_acc: 0.8792, val_loss: 0.4759, val_acc: 0.8330\n",
            "Epoch [2], train_loss: 0.3733, train_acc: 0.8890, val_loss: 0.3781, val_acc: 0.8791\n",
            "Epoch [3], train_loss: 0.2910, train_acc: 0.9048, val_loss: 0.4114, val_acc: 0.8747\n",
            "Epoch [4], train_loss: 0.3045, train_acc: 0.9014, val_loss: 0.3625, val_acc: 0.8934\n",
            "Epoch [5], train_loss: 0.3088, train_acc: 0.9048, val_loss: 0.3442, val_acc: 0.8930\n",
            "Epoch [6], train_loss: 0.3340, train_acc: 0.9032, val_loss: 0.3339, val_acc: 0.8979\n",
            "Epoch [7], train_loss: 0.3101, train_acc: 0.9056, val_loss: 0.3851, val_acc: 0.8910\n",
            "Epoch [8], train_loss: 0.2917, train_acc: 0.9104, val_loss: 0.3850, val_acc: 0.8929\n",
            "Epoch [9], train_loss: 0.3344, train_acc: 0.9036, val_loss: 0.3472, val_acc: 0.9086\n"
          ]
        }
      ]
    },
    {
      "cell_type": "code",
      "source": [
        "plot_accuracies(history_rn_pr)"
      ],
      "metadata": {
        "id": "GrUYbd2WctPV",
        "colab": {
          "base_uri": "https://localhost:8080/",
          "height": 295
        },
        "outputId": "21a49608-83b4-46b0-844c-c1bc6febb94d"
      },
      "execution_count": 29,
      "outputs": [
        {
          "output_type": "display_data",
          "data": {
            "text/plain": [
              "<Figure size 432x288 with 1 Axes>"
            ],
            "image/png": "[encoded data removed]"
          },
          "metadata": {
            "needs_background": "light"
          }
        }
      ]
    },
    {
      "cell_type": "code",
      "source": [
        "# check\n",
        "model = models.resnet18(weights = True)\n",
        "num_ftrs = model.fc.in_features\n",
        "model.fc = nn.Linear(num_ftrs, len(classes))\n",
        "model.load_state_dict(torch.load('resnet_pretrained.pt'))\n",
        "model.eval()\n",
        "\n",
        "for idx, data in enumerate(val_dl):\n",
        "  out = model(data[0])\n",
        "  _, y_hat = out.max(1)\n",
        "  print(y_hat)\n",
        "  print(data[1])\n",
        "  break\n"
      ],
      "metadata": {
        "id": "aUxTTdK4ctWa",
        "colab": {
          "base_uri": "https://localhost:8080/"
        },
        "outputId": "f0a9a485-deb3-4197-fc90-30afebec8934"
      },
      "execution_count": 31,
      "outputs": [
        {
          "output_type": "stream",
          "name": "stderr",
          "text": [
            "/usr/local/lib/python3.7/dist-packages/torchvision/models/_utils.py:223: UserWarning: Arguments other than a weight enum or `None` for 'weights' are deprecated since 0.13 and will be removed in 0.15. The current behavior is equivalent to passing `weights=ResNet18_Weights.IMAGENET1K_V1`. You can also use `weights=ResNet18_Weights.DEFAULT` to get the most up-to-date weights.\n",
            "  warnings.warn(msg)\n"
          ]
        },
        {
          "output_type": "stream",
          "name": "stdout",
          "text": [
            "tensor([6, 1, 1, 8, 7, 5, 8, 9, 4, 4, 4, 7, 8, 0, 0, 9, 6, 1, 2, 1, 5, 5, 4, 2,\n",
            "        5, 7, 8, 8, 4, 6, 8, 6, 6, 2, 5, 8, 0, 1, 2, 4, 0, 2, 2, 4, 9, 0, 1, 9,\n",
            "        8, 0, 7, 6, 9, 2, 4, 2, 9, 0, 2, 8, 6, 8, 8, 5])\n",
            "tensor([6, 1, 1, 8, 7, 5, 8, 9, 5, 4, 4, 7, 8, 0, 7, 9, 6, 1, 2, 1, 5, 9, 4, 2,\n",
            "        5, 7, 7, 0, 4, 6, 8, 6, 6, 2, 5, 1, 0, 1, 2, 5, 0, 2, 2, 5, 9, 0, 1, 9,\n",
            "        8, 0, 7, 6, 9, 2, 4, 2, 9, 0, 2, 8, 6, 8, 8, 5])\n"
          ]
        }
      ]
    },
    {
      "cell_type": "code",
      "source": [
        ""
      ],
      "metadata": {
        "id": "6S9gEt2VQPgC"
      },
      "execution_count": null,
      "outputs": []
    }
  ]
}