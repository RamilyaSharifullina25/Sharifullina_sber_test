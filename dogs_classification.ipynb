{
  "nbformat": 4,
  "nbformat_minor": 0,
  "metadata": {
    "colab": {
      "name": "dogs_classification.ipynb",
      "provenance": [],
      "collapsed_sections": []
    },
    "kernelspec": {
      "name": "python3",
      "display_name": "Python 3"
    },
    "language_info": {
      "name": "python"
    },
    "accelerator": "GPU",
    "gpuClass": "standard",
    "widgets": {
      "application/vnd.jupyter.widget-state+json": {
        "5117fe89cfbc437c8590c1a87073614e": {
          "model_module": "@jupyter-widgets/controls",
          "model_name": "HBoxModel",
          "model_module_version": "1.5.0",
          "state": {
            "_dom_classes": [],
            "_model_module": "@jupyter-widgets/controls",
            "_model_module_version": "1.5.0",
            "_model_name": "HBoxModel",
            "_view_count": null,
            "_view_module": "@jupyter-widgets/controls",
            "_view_module_version": "1.5.0",
            "_view_name": "HBoxView",
            "box_style": "",
            "children": [
              "IPY_MODEL_6269d19becc54423b23d7bc0cafda8d1",
              "IPY_MODEL_b3d4f618e3ab44a59e2c175406d3236e",
              "IPY_MODEL_c29ad289b176434f82d58087774c5fb8"
            ],
            "layout": "IPY_MODEL_125af497deee47728189fce62f6e95fc"
          }
        },
        "6269d19becc54423b23d7bc0cafda8d1": {
          "model_module": "@jupyter-widgets/controls",
          "model_name": "HTMLModel",
          "model_module_version": "1.5.0",
          "state": {
            "_dom_classes": [],
            "_model_module": "@jupyter-widgets/controls",
            "_model_module_version": "1.5.0",
            "_model_name": "HTMLModel",
            "_view_count": null,
            "_view_module": "@jupyter-widgets/controls",
            "_view_module_version": "1.5.0",
            "_view_name": "HTMLView",
            "description": "",
            "description_tooltip": null,
            "layout": "IPY_MODEL_1a3d4c3cc4c64e59a7bcb0a312848d77",
            "placeholder": "​",
            "style": "IPY_MODEL_7b2da88763ef4b56a966c0280d83cc98",
            "value": "100%"
          }
        },
        "b3d4f618e3ab44a59e2c175406d3236e": {
          "model_module": "@jupyter-widgets/controls",
          "model_name": "FloatProgressModel",
          "model_module_version": "1.5.0",
          "state": {
            "_dom_classes": [],
            "_model_module": "@jupyter-widgets/controls",
            "_model_module_version": "1.5.0",
            "_model_name": "FloatProgressModel",
            "_view_count": null,
            "_view_module": "@jupyter-widgets/controls",
            "_view_module_version": "1.5.0",
            "_view_name": "ProgressView",
            "bar_style": "success",
            "description": "",
            "description_tooltip": null,
            "layout": "IPY_MODEL_268434f2dcfb4425a1f0cd7549cba1ad",
            "max": 46830571,
            "min": 0,
            "orientation": "horizontal",
            "style": "IPY_MODEL_ef3881574b89426d8c35f27fb29c90fe",
            "value": 46830571
          }
        },
        "c29ad289b176434f82d58087774c5fb8": {
          "model_module": "@jupyter-widgets/controls",
          "model_name": "HTMLModel",
          "model_module_version": "1.5.0",
          "state": {
            "_dom_classes": [],
            "_model_module": "@jupyter-widgets/controls",
            "_model_module_version": "1.5.0",
            "_model_name": "HTMLModel",
            "_view_count": null,
            "_view_module": "@jupyter-widgets/controls",
            "_view_module_version": "1.5.0",
            "_view_name": "HTMLView",
            "description": "",
            "description_tooltip": null,
            "layout": "IPY_MODEL_d79aeb6f9a78498db2b9169e5e352ae4",
            "placeholder": "​",
            "style": "IPY_MODEL_f168fcfd71924b078136cc3f7bc16272",
            "value": " 44.7M/44.7M [00:00&lt;00:00, 59.9MB/s]"
          }
        },
        "125af497deee47728189fce62f6e95fc": {
          "model_module": "@jupyter-widgets/base",
          "model_name": "LayoutModel",
          "model_module_version": "1.2.0",
          "state": {
            "_model_module": "@jupyter-widgets/base",
            "_model_module_version": "1.2.0",
            "_model_name": "LayoutModel",
            "_view_count": null,
            "_view_module": "@jupyter-widgets/base",
            "_view_module_version": "1.2.0",
            "_view_name": "LayoutView",
            "align_content": null,
            "align_items": null,
            "align_self": null,
            "border": null,
            "bottom": null,
            "display": null,
            "flex": null,
            "flex_flow": null,
            "grid_area": null,
            "grid_auto_columns": null,
            "grid_auto_flow": null,
            "grid_auto_rows": null,
            "grid_column": null,
            "grid_gap": null,
            "grid_row": null,
            "grid_template_areas": null,
            "grid_template_columns": null,
            "grid_template_rows": null,
            "height": null,
            "justify_content": null,
            "justify_items": null,
            "left": null,
            "margin": null,
            "max_height": null,
            "max_width": null,
            "min_height": null,
            "min_width": null,
            "object_fit": null,
            "object_position": null,
            "order": null,
            "overflow": null,
            "overflow_x": null,
            "overflow_y": null,
            "padding": null,
            "right": null,
            "top": null,
            "visibility": null,
            "width": null
          }
        },
        "1a3d4c3cc4c64e59a7bcb0a312848d77": {
          "model_module": "@jupyter-widgets/base",
          "model_name": "LayoutModel",
          "model_module_version": "1.2.0",
          "state": {
            "_model_module": "@jupyter-widgets/base",
            "_model_module_version": "1.2.0",
            "_model_name": "LayoutModel",
            "_view_count": null,
            "_view_module": "@jupyter-widgets/base",
            "_view_module_version": "1.2.0",
            "_view_name": "LayoutView",
            "align_content": null,
            "align_items": null,
            "align_self": null,
            "border": null,
            "bottom": null,
            "display": null,
            "flex": null,
            "flex_flow": null,
            "grid_area": null,
            "grid_auto_columns": null,
            "grid_auto_flow": null,
            "grid_auto_rows": null,
            "grid_column": null,
            "grid_gap": null,
            "grid_row": null,
            "grid_template_areas": null,
            "grid_template_columns": null,
            "grid_template_rows": null,
            "height": null,
            "justify_content": null,
            "justify_items": null,
            "left": null,
            "margin": null,
            "max_height": null,
            "max_width": null,
            "min_height": null,
            "min_width": null,
            "object_fit": null,
            "object_position": null,
            "order": null,
            "overflow": null,
            "overflow_x": null,
            "overflow_y": null,
            "padding": null,
            "right": null,
            "top": null,
            "visibility": null,
            "width": null
          }
        },
        "7b2da88763ef4b56a966c0280d83cc98": {
          "model_module": "@jupyter-widgets/controls",
          "model_name": "DescriptionStyleModel",
          "model_module_version": "1.5.0",
          "state": {
            "_model_module": "@jupyter-widgets/controls",
            "_model_module_version": "1.5.0",
            "_model_name": "DescriptionStyleModel",
            "_view_count": null,
            "_view_module": "@jupyter-widgets/base",
            "_view_module_version": "1.2.0",
            "_view_name": "StyleView",
            "description_width": ""
          }
        },
        "268434f2dcfb4425a1f0cd7549cba1ad": {
          "model_module": "@jupyter-widgets/base",
          "model_name": "LayoutModel",
          "model_module_version": "1.2.0",
          "state": {
            "_model_module": "@jupyter-widgets/base",
            "_model_module_version": "1.2.0",
            "_model_name": "LayoutModel",
            "_view_count": null,
            "_view_module": "@jupyter-widgets/base",
            "_view_module_version": "1.2.0",
            "_view_name": "LayoutView",
            "align_content": null,
            "align_items": null,
            "align_self": null,
            "border": null,
            "bottom": null,
            "display": null,
            "flex": null,
            "flex_flow": null,
            "grid_area": null,
            "grid_auto_columns": null,
            "grid_auto_flow": null,
            "grid_auto_rows": null,
            "grid_column": null,
            "grid_gap": null,
            "grid_row": null,
            "grid_template_areas": null,
            "grid_template_columns": null,
            "grid_template_rows": null,
            "height": null,
            "justify_content": null,
            "justify_items": null,
            "left": null,
            "margin": null,
            "max_height": null,
            "max_width": null,
            "min_height": null,
            "min_width": null,
            "object_fit": null,
            "object_position": null,
            "order": null,
            "overflow": null,
            "overflow_x": null,
            "overflow_y": null,
            "padding": null,
            "right": null,
            "top": null,
            "visibility": null,
            "width": null
          }
        },
        "ef3881574b89426d8c35f27fb29c90fe": {
          "model_module": "@jupyter-widgets/controls",
          "model_name": "ProgressStyleModel",
          "model_module_version": "1.5.0",
          "state": {
            "_model_module": "@jupyter-widgets/controls",
            "_model_module_version": "1.5.0",
            "_model_name": "ProgressStyleModel",
            "_view_count": null,
            "_view_module": "@jupyter-widgets/base",
            "_view_module_version": "1.2.0",
            "_view_name": "StyleView",
            "bar_color": null,
            "description_width": ""
          }
        },
        "d79aeb6f9a78498db2b9169e5e352ae4": {
          "model_module": "@jupyter-widgets/base",
          "model_name": "LayoutModel",
          "model_module_version": "1.2.0",
          "state": {
            "_model_module": "@jupyter-widgets/base",
            "_model_module_version": "1.2.0",
            "_model_name": "LayoutModel",
            "_view_count": null,
            "_view_module": "@jupyter-widgets/base",
            "_view_module_version": "1.2.0",
            "_view_name": "LayoutView",
            "align_content": null,
            "align_items": null,
            "align_self": null,
            "border": null,
            "bottom": null,
            "display": null,
            "flex": null,
            "flex_flow": null,
            "grid_area": null,
            "grid_auto_columns": null,
            "grid_auto_flow": null,
            "grid_auto_rows": null,
            "grid_column": null,
            "grid_gap": null,
            "grid_row": null,
            "grid_template_areas": null,
            "grid_template_columns": null,
            "grid_template_rows": null,
            "height": null,
            "justify_content": null,
            "justify_items": null,
            "left": null,
            "margin": null,
            "max_height": null,
            "max_width": null,
            "min_height": null,
            "min_width": null,
            "object_fit": null,
            "object_position": null,
            "order": null,
            "overflow": null,
            "overflow_x": null,
            "overflow_y": null,
            "padding": null,
            "right": null,
            "top": null,
            "visibility": null,
            "width": null
          }
        },
        "f168fcfd71924b078136cc3f7bc16272": {
          "model_module": "@jupyter-widgets/controls",
          "model_name": "DescriptionStyleModel",
          "model_module_version": "1.5.0",
          "state": {
            "_model_module": "@jupyter-widgets/controls",
            "_model_module_version": "1.5.0",
            "_model_name": "DescriptionStyleModel",
            "_view_count": null,
            "_view_module": "@jupyter-widgets/base",
            "_view_module_version": "1.2.0",
            "_view_name": "StyleView",
            "description_width": ""
          }
        }
      }
    }
  },
  "cells": [
    {
      "cell_type": "markdown",
      "source": [
        "## Тестовое заадание от Сбер IDP.  \n",
        "Выполненно Шарифуллиной Рамилей в Google Colab.\n"
      ],
      "metadata": {
        "id": "AUCrJaX4m5t2"
      }
    },
    {
      "cell_type": "markdown",
      "source": [
        "### Import modules"
      ],
      "metadata": {
        "id": "73ru57EQwR7w"
      }
    },
    {
      "cell_type": "code",
      "execution_count": 1,
      "metadata": {
        "id": "ztgDKo1EcWy5"
      },
      "outputs": [],
      "source": [
        "import torch\n",
        "import torch.nn as nn\n",
        "from torch.utils.data.dataloader import Dataset, DataLoader\n",
        "import torch.optim as optim\n",
        "from torchvision import transforms, models\n",
        "from torchvision.datasets import ImageFolder\n",
        "from skimage import io\n",
        "import matplotlib.pyplot as plt\n",
        "\n",
        "import os\n",
        "import pandas as pd"
      ]
    },
    {
      "cell_type": "code",
      "source": [
        "# зададим переменную `device` \n",
        "device = torch.device(\"cuda:0\" if torch.cuda.is_available() else \"cpu\")\n",
        "device"
      ],
      "metadata": {
        "colab": {
          "base_uri": "https://localhost:8080/"
        },
        "id": "kS87rGoUxf9I",
        "outputId": "ea23fe5a-9248-4b5a-994d-53006f6fc550"
      },
      "execution_count": 2,
      "outputs": [
        {
          "output_type": "execute_result",
          "data": {
            "text/plain": [
              "device(type='cuda', index=0)"
            ]
          },
          "metadata": {},
          "execution_count": 2
        }
      ]
    },
    {
      "cell_type": "markdown",
      "source": [
        "### Data extraction"
      ],
      "metadata": {
        "id": "BRSvXN33vCVm"
      }
    },
    {
      "cell_type": "code",
      "source": [
        "# датасет лежит на моем гугл диске, он открыт для скачивания \n",
        "!mkdir datasets\n",
        "!gdown --id 1-1p8EFtIQ_wjmY9yiKMUtUxBdI4mv5C0 -O datasets/imagewoof2.tgz\n",
        "!tar -xzf datasets/imagewoof2.tgz -C datasets\n",
        "!rm datasets/imagewoof2.tgz"
      ],
      "metadata": {
        "colab": {
          "base_uri": "https://localhost:8080/"
        },
        "id": "0pDzmQAbvBAW",
        "outputId": "43122680-e9de-45a2-b992-9695dbc1b884"
      },
      "execution_count": 3,
      "outputs": [
        {
          "output_type": "stream",
          "name": "stdout",
          "text": [
            "/usr/local/lib/python3.7/dist-packages/gdown/cli.py:131: FutureWarning: Option `--id` was deprecated in version 4.3.1 and will be removed in 5.0. You don't need to pass it anymore to use a file ID.\n",
            "  category=FutureWarning,\n",
            "Downloading...\n",
            "From: https://drive.google.com/uc?id=1-1p8EFtIQ_wjmY9yiKMUtUxBdI4mv5C0\n",
            "To: /content/datasets/imagewoof2.tgz\n",
            "100% 1.34G/1.34G [00:27<00:00, 48.3MB/s]\n"
          ]
        }
      ]
    },
    {
      "cell_type": "code",
      "source": [
        "source_dir = '/content/datasets/imagewoof2' # путь к папке всего датасета\n",
        "train_dir = os.path.join(source_dir, 'train') # путь к папке трейнового датасета\n",
        "val_dir = os.path.join(source_dir, 'val') # путь к папке датасета для валидации\n",
        "csv_file_dir = os.path.join(source_dir, 'noisy_imagewoof.csv') # путь к csv файлу\n",
        "\n",
        "labels_csv = pd.read_csv(csv_file_dir) \n",
        "labels_csv.head()"
      ],
      "metadata": {
        "colab": {
          "base_uri": "https://localhost:8080/",
          "height": 270
        },
        "id": "F2_hzepJrB53",
        "outputId": "aa629d57-3898-4a72-d403-c8130ac08526"
      },
      "execution_count": 4,
      "outputs": [
        {
          "output_type": "execute_result",
          "data": {
            "text/plain": [
              "                                   path noisy_labels_0 noisy_labels_1  \\\n",
              "0   train/n02115641/n02115641_3995.JPEG      n02115641      n02115641   \n",
              "1    train/n02115641/n02115641_843.JPEG      n02115641      n02115641   \n",
              "2   train/n02115641/n02115641_2953.JPEG      n02115641      n02115641   \n",
              "3   train/n02115641/n02115641_6458.JPEG      n02115641      n02115641   \n",
              "4  train/n02115641/n02115641_19414.JPEG      n02115641      n02115641   \n",
              "\n",
              "  noisy_labels_5 noisy_labels_25 noisy_labels_50  is_valid  \n",
              "0      n02115641       n02115641       n02115641     False  \n",
              "1      n02105641       n02115641       n02088364     False  \n",
              "2      n02115641       n02111889       n02099601     False  \n",
              "3      n02115641       n02093754       n02115641     False  \n",
              "4      n02115641       n02115641       n02088364     False  "
            ],
            "text/html": [
              "\n",
              "  <div id=\"df-5b29faa3-99bf-4f07-bcb8-f8da921e34b1\">\n",
              "    <div class=\"colab-df-container\">\n",
              "      <div>\n",
              "<style scoped>\n",
              "    .dataframe tbody tr th:only-of-type {\n",
              "        vertical-align: middle;\n",
              "    }\n",
              "\n",
              "    .dataframe tbody tr th {\n",
              "        vertical-align: top;\n",
              "    }\n",
              "\n",
              "    .dataframe thead th {\n",
              "        text-align: right;\n",
              "    }\n",
              "</style>\n",
              "<table border=\"1\" class=\"dataframe\">\n",
              "  <thead>\n",
              "    <tr style=\"text-align: right;\">\n",
              "      <th></th>\n",
              "      <th>path</th>\n",
              "      <th>noisy_labels_0</th>\n",
              "      <th>noisy_labels_1</th>\n",
              "      <th>noisy_labels_5</th>\n",
              "      <th>noisy_labels_25</th>\n",
              "      <th>noisy_labels_50</th>\n",
              "      <th>is_valid</th>\n",
              "    </tr>\n",
              "  </thead>\n",
              "  <tbody>\n",
              "    <tr>\n",
              "      <th>0</th>\n",
              "      <td>train/n02115641/n02115641_3995.JPEG</td>\n",
              "      <td>n02115641</td>\n",
              "      <td>n02115641</td>\n",
              "      <td>n02115641</td>\n",
              "      <td>n02115641</td>\n",
              "      <td>n02115641</td>\n",
              "      <td>False</td>\n",
              "    </tr>\n",
              "    <tr>\n",
              "      <th>1</th>\n",
              "      <td>train/n02115641/n02115641_843.JPEG</td>\n",
              "      <td>n02115641</td>\n",
              "      <td>n02115641</td>\n",
              "      <td>n02105641</td>\n",
              "      <td>n02115641</td>\n",
              "      <td>n02088364</td>\n",
              "      <td>False</td>\n",
              "    </tr>\n",
              "    <tr>\n",
              "      <th>2</th>\n",
              "      <td>train/n02115641/n02115641_2953.JPEG</td>\n",
              "      <td>n02115641</td>\n",
              "      <td>n02115641</td>\n",
              "      <td>n02115641</td>\n",
              "      <td>n02111889</td>\n",
              "      <td>n02099601</td>\n",
              "      <td>False</td>\n",
              "    </tr>\n",
              "    <tr>\n",
              "      <th>3</th>\n",
              "      <td>train/n02115641/n02115641_6458.JPEG</td>\n",
              "      <td>n02115641</td>\n",
              "      <td>n02115641</td>\n",
              "      <td>n02115641</td>\n",
              "      <td>n02093754</td>\n",
              "      <td>n02115641</td>\n",
              "      <td>False</td>\n",
              "    </tr>\n",
              "    <tr>\n",
              "      <th>4</th>\n",
              "      <td>train/n02115641/n02115641_19414.JPEG</td>\n",
              "      <td>n02115641</td>\n",
              "      <td>n02115641</td>\n",
              "      <td>n02115641</td>\n",
              "      <td>n02115641</td>\n",
              "      <td>n02088364</td>\n",
              "      <td>False</td>\n",
              "    </tr>\n",
              "  </tbody>\n",
              "</table>\n",
              "</div>\n",
              "      <button class=\"colab-df-convert\" onclick=\"convertToInteractive('df-5b29faa3-99bf-4f07-bcb8-f8da921e34b1')\"\n",
              "              title=\"Convert this dataframe to an interactive table.\"\n",
              "              style=\"display:none;\">\n",
              "        \n",
              "  <svg xmlns=\"http://www.w3.org/2000/svg\" height=\"24px\"viewBox=\"0 0 24 24\"\n",
              "       width=\"24px\">\n",
              "    <path d=\"M0 0h24v24H0V0z\" fill=\"none\"/>\n",
              "    <path d=\"M18.56 5.44l.94 2.06.94-2.06 2.06-.94-2.06-.94-.94-2.06-.94 2.06-2.06.94zm-11 1L8.5 8.5l.94-2.06 2.06-.94-2.06-.94L8.5 2.5l-.94 2.06-2.06.94zm10 10l.94 2.06.94-2.06 2.06-.94-2.06-.94-.94-2.06-.94 2.06-2.06.94z\"/><path d=\"M17.41 7.96l-1.37-1.37c-.4-.4-.92-.59-1.43-.59-.52 0-1.04.2-1.43.59L10.3 9.45l-7.72 7.72c-.78.78-.78 2.05 0 2.83L4 21.41c.39.39.9.59 1.41.59.51 0 1.02-.2 1.41-.59l7.78-7.78 2.81-2.81c.8-.78.8-2.07 0-2.86zM5.41 20L4 18.59l7.72-7.72 1.47 1.35L5.41 20z\"/>\n",
              "  </svg>\n",
              "      </button>\n",
              "      \n",
              "  <style>\n",
              "    .colab-df-container {\n",
              "      display:flex;\n",
              "      flex-wrap:wrap;\n",
              "      gap: 12px;\n",
              "    }\n",
              "\n",
              "    .colab-df-convert {\n",
              "      background-color: #E8F0FE;\n",
              "      border: none;\n",
              "      border-radius: 50%;\n",
              "      cursor: pointer;\n",
              "      display: none;\n",
              "      fill: #1967D2;\n",
              "      height: 32px;\n",
              "      padding: 0 0 0 0;\n",
              "      width: 32px;\n",
              "    }\n",
              "\n",
              "    .colab-df-convert:hover {\n",
              "      background-color: #E2EBFA;\n",
              "      box-shadow: 0px 1px 2px rgba(60, 64, 67, 0.3), 0px 1px 3px 1px rgba(60, 64, 67, 0.15);\n",
              "      fill: #174EA6;\n",
              "    }\n",
              "\n",
              "    [theme=dark] .colab-df-convert {\n",
              "      background-color: #3B4455;\n",
              "      fill: #D2E3FC;\n",
              "    }\n",
              "\n",
              "    [theme=dark] .colab-df-convert:hover {\n",
              "      background-color: #434B5C;\n",
              "      box-shadow: 0px 1px 3px 1px rgba(0, 0, 0, 0.15);\n",
              "      filter: drop-shadow(0px 1px 2px rgba(0, 0, 0, 0.3));\n",
              "      fill: #FFFFFF;\n",
              "    }\n",
              "  </style>\n",
              "\n",
              "      <script>\n",
              "        const buttonEl =\n",
              "          document.querySelector('#df-5b29faa3-99bf-4f07-bcb8-f8da921e34b1 button.colab-df-convert');\n",
              "        buttonEl.style.display =\n",
              "          google.colab.kernel.accessAllowed ? 'block' : 'none';\n",
              "\n",
              "        async function convertToInteractive(key) {\n",
              "          const element = document.querySelector('#df-5b29faa3-99bf-4f07-bcb8-f8da921e34b1');\n",
              "          const dataTable =\n",
              "            await google.colab.kernel.invokeFunction('convertToInteractive',\n",
              "                                                     [key], {});\n",
              "          if (!dataTable) return;\n",
              "\n",
              "          const docLinkHtml = 'Like what you see? Visit the ' +\n",
              "            '<a target=\"_blank\" href=https://colab.research.google.com/notebooks/data_table.ipynb>data table notebook</a>'\n",
              "            + ' to learn more about interactive tables.';\n",
              "          element.innerHTML = '';\n",
              "          dataTable['output_type'] = 'display_data';\n",
              "          await google.colab.output.renderOutput(dataTable, element);\n",
              "          const docLink = document.createElement('div');\n",
              "          docLink.innerHTML = docLinkHtml;\n",
              "          element.appendChild(docLink);\n",
              "        }\n",
              "      </script>\n",
              "    </div>\n",
              "  </div>\n",
              "  "
            ]
          },
          "metadata": {},
          "execution_count": 4
        }
      ]
    },
    {
      "cell_type": "markdown",
      "source": [
        "### Dataset and DataLoader"
      ],
      "metadata": {
        "id": "68fvSnMCwITU"
      }
    },
    {
      "cell_type": "code",
      "source": [
        "# классы были наименованы согласно описанию датасета в https://github.com/fastai/imagenette\n",
        "classes = ['Australian terrier', \n",
        "           'Border terrier', \n",
        "           'Samoyed', \n",
        "           'Beagle', \n",
        "           'Shih-Tzu', \n",
        "           'English foxhound', \n",
        "           'Rhodesian ridgeback', \n",
        "           'Dingo', \n",
        "           'Golden retriever', \n",
        "           'Old English sheepdog']"
      ],
      "metadata": {
        "id": "sWmM5mckyeQN"
      },
      "execution_count": 5,
      "outputs": []
    },
    {
      "cell_type": "code",
      "source": [
        "# # пропишем кастомный Dataset\n",
        "\n",
        "# class Imagewoof2_dataset(Dataset):\n",
        "#   def __init__(self, \n",
        "#                mode_dir, \n",
        "#                transform,\n",
        "#                csv_file,\n",
        "#                mode):\n",
        "    \n",
        "#     self.mode_dir = mode_dir\n",
        "#     self.transform = transform\n",
        "#     self.csv_file = pd.read_csv(csv_file)\n",
        "#     self.mode = mode\n",
        "\n",
        "#   def __len__(self):\n",
        "#     return len(self.csv_file)\n",
        "\n",
        "#   def __getitem__(self, idx):\n",
        "#     if self.csv_file.path.iloc[idx].split('/')[0] == self.mode:\n",
        "#       image_name = os.path.join(self.mode_dir, \n",
        "#                                 self.csv_file.path.iloc[idx].split('/')[1],\n",
        "#                                 self.csv_file.path.iloc[idx].split('/')[2])\n",
        "#       image = io.imread(image_name)\n",
        "#       if self.transform:\n",
        "#         image = self.transform(image)\n",
        "#       label = image_name\n",
        "#       return image, label\n",
        "    "
      ],
      "metadata": {
        "id": "lwJyD29mcsma"
      },
      "execution_count": 6,
      "outputs": []
    },
    {
      "cell_type": "code",
      "source": [
        "# transform - аугментация изображений\n",
        "\n",
        "transform = transforms.Compose([transforms.CenterCrop(256),\n",
        "                                transforms.ToTensor(),\n",
        "                                transforms.Normalize([0.485, 0.456, 0.406], [0.229, 0.224, 0.225])\n",
        "                                ])"
      ],
      "metadata": {
        "id": "OteuAPJOwyvq"
      },
      "execution_count": 7,
      "outputs": []
    },
    {
      "cell_type": "code",
      "source": [
        "# check - подгрузим dataset и dataloader, чтобы передавать данные в модель\n",
        "batch_size = 64\n",
        "train_ds = ImageFolder(train_dir, transform)\n",
        "train_dl = DataLoader(train_ds, batch_size, shuffle = True)\n",
        "\n",
        "val_ds = ImageFolder(val_dir, transform)\n",
        "val_dl = DataLoader(val_ds, batch_size, shuffle = True)\n",
        "\n",
        "for idx, data in enumerate(val_dl):\n",
        "  print(data[0].shape)\n",
        "  print(data[1])\n",
        "  break"
      ],
      "metadata": {
        "colab": {
          "base_uri": "https://localhost:8080/"
        },
        "id": "TRulFbtd67Mq",
        "outputId": "d419fc83-bd50-4fed-d8ee-6ed90210577c"
      },
      "execution_count": 8,
      "outputs": [
        {
          "output_type": "stream",
          "name": "stdout",
          "text": [
            "torch.Size([64, 3, 256, 256])\n",
            "tensor([1, 7, 3, 9, 9, 4, 5, 9, 7, 1, 7, 1, 5, 3, 3, 2, 3, 1, 9, 4, 8, 8, 7, 2,\n",
            "        0, 7, 0, 6, 9, 1, 7, 2, 1, 5, 0, 7, 2, 8, 9, 8, 2, 6, 6, 3, 2, 8, 1, 9,\n",
            "        3, 6, 2, 9, 7, 6, 6, 6, 8, 9, 0, 0, 9, 8, 6, 0])\n"
          ]
        }
      ]
    },
    {
      "cell_type": "code",
      "source": [
        "# установим соответсвие между номерами классов и названиями в виде словаря (хеш таблица)\n",
        "classes_dict = dict(zip(range(0, 10), classes))\n",
        "print(classes_dict)"
      ],
      "metadata": {
        "colab": {
          "base_uri": "https://localhost:8080/"
        },
        "id": "uTeZ1wFyp63G",
        "outputId": "810ba0c8-d1a0-425f-dca7-b6f57c679cf3"
      },
      "execution_count": 51,
      "outputs": [
        {
          "output_type": "stream",
          "name": "stdout",
          "text": [
            "{0: 'Australian terrier', 1: 'Border terrier', 2: 'Samoyed', 3: 'Beagle', 4: 'Shih-Tzu', 5: 'English foxhound', 6: 'Rhodesian ridgeback', 7: 'Dingo', 8: 'Golden retriever', 9: 'Old English sheepdog'}\n"
          ]
        }
      ]
    },
    {
      "cell_type": "code",
      "source": [
        "some = dict(zip(list(range(0,10)), classes))\n",
        "some[9]"
      ],
      "metadata": {
        "colab": {
          "base_uri": "https://localhost:8080/",
          "height": 35
        },
        "id": "mDJPheCK8bRB",
        "outputId": "91643e02-09c5-4397-c98b-cde1f7bcf2c7"
      },
      "execution_count": 53,
      "outputs": [
        {
          "output_type": "execute_result",
          "data": {
            "text/plain": [
              "'Old English sheepdog'"
            ],
            "application/vnd.google.colaboratory.intrinsic+json": {
              "type": "string"
            }
          },
          "metadata": {},
          "execution_count": 53
        }
      ]
    },
    {
      "cell_type": "markdown",
      "source": [
        "### Accuracy, evaluate, fit and plot accuracy functions"
      ],
      "metadata": {
        "id": "NxcE6YvAEygx"
      }
    },
    {
      "cell_type": "code",
      "source": [
        "# пропишем функции accuracy, train and evaluation для тренировки и оценки качества модели\n",
        "# так же пропишем функцию plot_accuracy, которая показывает, как хорошо модель\n",
        "def accuracy(preds, labels):\n",
        "    preds = torch.argmax(preds, dim=1)\n",
        "    return torch.tensor(torch.sum(preds == labels).item() / len(preds))"
      ],
      "metadata": {
        "id": "lN28yDqActBc"
      },
      "execution_count": 12,
      "outputs": []
    },
    {
      "cell_type": "code",
      "source": [
        "def evaluate(model, criterion, val_loader):\n",
        "  # model = model.to(device)\n",
        "  model.eval()\n",
        "  loss, acc = [], []\n",
        "  for images, labels in val_loader:\n",
        "    images, labels = images.to(device), labels.to(device)\n",
        "    preds = model(images)\n",
        "    loss.append(criterion(preds, labels).detach())\n",
        "    acc.append(accuracy(preds, labels))\n",
        "  return {'val_loss': torch.stack(loss).mean().item(), \n",
        "          'val_acc': torch.stack(acc).mean().item()}"
      ],
      "metadata": {
        "id": "54GsE67bIXKi"
      },
      "execution_count": 13,
      "outputs": []
    },
    {
      "cell_type": "code",
      "source": [
        "def fit(epochs, model, train_loader, val_loader, criterion, optimizer, device, save_PATH):\n",
        "    history = []\n",
        "    for epoch in range(epochs):\n",
        "        # Training Phase \n",
        "        model = model.to(device)\n",
        "        model.train()\n",
        "        train_losses = []\n",
        "        train_acc = []\n",
        "\n",
        "        for images, labels in train_loader:\n",
        "          images, labels = images.to(device), labels.to(device)\n",
        "          optimizer.zero_grad()\n",
        "          preds = model(images)\n",
        "          loss = criterion(preds, labels)\n",
        "          train_losses.append(loss)\n",
        "          train_acc.append(accuracy(preds, labels))\n",
        "          loss.backward()\n",
        "          optimizer.step()\n",
        "\n",
        "        # Validation phase\n",
        "        result = evaluate(model, criterion, val_loader)\n",
        "        result['train_loss'] = torch.stack(train_losses).mean().item()\n",
        "        result['train_acc'] = torch.stack(train_acc).mean().item()\n",
        "        print(\"Epoch [{}], train_loss: {:.4f}, train_acc: {:.4f}, val_loss: {:.4f}, val_acc: {:.4f}\".format(\n",
        "            epoch, result['train_loss'], result['train_acc'], result['val_loss'], result['val_acc']))\n",
        "        history.append(result)\n",
        "\n",
        "    torch.save(model.state_dict(), save_PATH)\n",
        "    \n",
        "    return history"
      ],
      "metadata": {
        "id": "QERofXvGIXRv"
      },
      "execution_count": 14,
      "outputs": []
    },
    {
      "cell_type": "code",
      "source": [
        "def plot_accuracies(history):\n",
        "  train_acc = [x.get('train_acc') for x in history]\n",
        "  val_acc = [x['val_acc'] for x in history]\n",
        "  plt.plot(train_acc, '-bx')\n",
        "  plt.plot(val_acc, '-rx')\n",
        "  plt.xlabel('epoch')\n",
        "  plt.ylabel('accuracy')\n",
        "  plt.legend(['Training','Validation'])\n",
        "  plt.title('Accuracy vs No. of epoch')\n"
      ],
      "metadata": {
        "id": "zzBqPJPFIXYo"
      },
      "execution_count": 15,
      "outputs": []
    },
    {
      "cell_type": "markdown",
      "source": [
        "### Model \n",
        "За модель была взята затрейненная на датасете Imagenet модель ResNet18. Воспользуемся идеей transfer learning и перепишем выходной слой  в виде `nn.Linear(num_ftrs, len(classes))`, где `num_ftrs = 1000`, то есть количеству классов в датасете Imagenet, а `len(classes) = 20`, то есть количество классов в требуемом датасете Imagewoof."
      ],
      "metadata": {
        "id": "kHGPAXOexDVt"
      }
    },
    {
      "cell_type": "code",
      "source": [
        "# инициализирование модели\n",
        "resnet_pretrained = models.resnet18(weights = True)\n",
        "num_ftrs = resnet_pretrained.fc.in_features\n",
        "resnet_pretrained.fc = nn.Linear(num_ftrs, len(classes))\n",
        "\n",
        "# инициализирование функции потерь и оптимизатора \n",
        "criterion = nn.CrossEntropyLoss()\n",
        "optimizer_rn_pr = optim.SGD(resnet_pretrained.fc.parameters(), \n",
        "                         lr=1e-2, \n",
        "                         momentum=0.9)"
      ],
      "metadata": {
        "colab": {
          "base_uri": "https://localhost:8080/",
          "height": 123,
          "referenced_widgets": [
            "5117fe89cfbc437c8590c1a87073614e",
            "6269d19becc54423b23d7bc0cafda8d1",
            "b3d4f618e3ab44a59e2c175406d3236e",
            "c29ad289b176434f82d58087774c5fb8",
            "125af497deee47728189fce62f6e95fc",
            "1a3d4c3cc4c64e59a7bcb0a312848d77",
            "7b2da88763ef4b56a966c0280d83cc98",
            "268434f2dcfb4425a1f0cd7549cba1ad",
            "ef3881574b89426d8c35f27fb29c90fe",
            "d79aeb6f9a78498db2b9169e5e352ae4",
            "f168fcfd71924b078136cc3f7bc16272"
          ]
        },
        "id": "xKTVAFNvcs5u",
        "outputId": "e5d1288a-b964-4c70-a0fc-b837406a05fc"
      },
      "execution_count": 16,
      "outputs": [
        {
          "output_type": "stream",
          "name": "stderr",
          "text": [
            "/usr/local/lib/python3.7/dist-packages/torchvision/models/_utils.py:223: UserWarning: Arguments other than a weight enum or `None` for 'weights' are deprecated since 0.13 and will be removed in 0.15. The current behavior is equivalent to passing `weights=ResNet18_Weights.IMAGENET1K_V1`. You can also use `weights=ResNet18_Weights.DEFAULT` to get the most up-to-date weights.\n",
            "  warnings.warn(msg)\n",
            "Downloading: \"https://download.pytorch.org/models/resnet18-f37072fd.pth\" to /root/.cache/torch/hub/checkpoints/resnet18-f37072fd.pth\n"
          ]
        },
        {
          "output_type": "display_data",
          "data": {
            "text/plain": [
              "  0%|          | 0.00/44.7M [00:00<?, ?B/s]"
            ],
            "application/vnd.jupyter.widget-view+json": {
              "version_major": 2,
              "version_minor": 0,
              "model_id": "5117fe89cfbc437c8590c1a87073614e"
            }
          },
          "metadata": {}
        }
      ]
    },
    {
      "cell_type": "markdown",
      "source": [
        "### Training models and performing their accuracy"
      ],
      "metadata": {
        "id": "KX8I0P8BIkh0"
      }
    },
    {
      "cell_type": "code",
      "source": [
        "# тренировка бейзлайн модели на 20 эпохах\n",
        "num_epochs = 20\n",
        "history_rn_pr = fit(num_epochs, \n",
        "                    resnet_pretrained, \n",
        "                    train_dl, \n",
        "                    val_dl, \n",
        "                    criterion, \n",
        "                    optimizer_rn_pr,\n",
        "                    device,\n",
        "                    save_PATH = 'resnet_20_epochs.pt')"
      ],
      "metadata": {
        "id": "LZGaiHGWctIL",
        "colab": {
          "base_uri": "https://localhost:8080/"
        },
        "outputId": "c2404426-5c59-4cb1-a250-eda537dc781d"
      },
      "execution_count": 18,
      "outputs": [
        {
          "output_type": "stream",
          "name": "stdout",
          "text": [
            "Epoch [0], train_loss: 0.5220, train_acc: 0.8393, val_loss: 0.3962, val_acc: 0.8644\n",
            "Epoch [1], train_loss: 0.4094, train_acc: 0.8768, val_loss: 0.4443, val_acc: 0.8434\n",
            "Epoch [2], train_loss: 0.3580, train_acc: 0.8903, val_loss: 0.3650, val_acc: 0.8881\n",
            "Epoch [3], train_loss: 0.3254, train_acc: 0.8976, val_loss: 0.4046, val_acc: 0.8730\n",
            "Epoch [4], train_loss: 0.3355, train_acc: 0.8987, val_loss: 0.3464, val_acc: 0.8975\n",
            "Epoch [5], train_loss: 0.3019, train_acc: 0.9066, val_loss: 0.4263, val_acc: 0.8757\n",
            "Epoch [6], train_loss: 0.3216, train_acc: 0.9025, val_loss: 0.3951, val_acc: 0.8910\n",
            "Epoch [7], train_loss: 0.3077, train_acc: 0.9096, val_loss: 0.3396, val_acc: 0.9042\n",
            "Epoch [8], train_loss: 0.2891, train_acc: 0.9153, val_loss: 0.3987, val_acc: 0.8815\n",
            "Epoch [9], train_loss: 0.2986, train_acc: 0.9089, val_loss: 0.3716, val_acc: 0.8917\n",
            "Epoch [10], train_loss: 0.2860, train_acc: 0.9149, val_loss: 0.4209, val_acc: 0.8717\n",
            "Epoch [11], train_loss: 0.3225, train_acc: 0.9034, val_loss: 0.3860, val_acc: 0.8979\n",
            "Epoch [12], train_loss: 0.2865, train_acc: 0.9124, val_loss: 0.3851, val_acc: 0.8940\n",
            "Epoch [13], train_loss: 0.2621, train_acc: 0.9191, val_loss: 0.3757, val_acc: 0.8970\n",
            "Epoch [14], train_loss: 0.2632, train_acc: 0.9198, val_loss: 0.4093, val_acc: 0.8811\n",
            "Epoch [15], train_loss: 0.2671, train_acc: 0.9191, val_loss: 0.4166, val_acc: 0.8940\n",
            "Epoch [16], train_loss: 0.2615, train_acc: 0.9176, val_loss: 0.4104, val_acc: 0.8880\n",
            "Epoch [17], train_loss: 0.2674, train_acc: 0.9180, val_loss: 0.3511, val_acc: 0.9009\n",
            "Epoch [18], train_loss: 0.2767, train_acc: 0.9181, val_loss: 0.3841, val_acc: 0.8947\n",
            "Epoch [19], train_loss: 0.2687, train_acc: 0.9188, val_loss: 0.3788, val_acc: 0.8960\n"
          ]
        }
      ]
    },
    {
      "cell_type": "code",
      "source": [
        "plot_accuracies(history_rn_pr)"
      ],
      "metadata": {
        "id": "GrUYbd2WctPV",
        "colab": {
          "base_uri": "https://localhost:8080/",
          "height": 295
        },
        "outputId": "f93b483b-7568-4e8e-9f0a-2e29a4c90603"
      },
      "execution_count": 19,
      "outputs": [
        {
          "output_type": "display_data",
          "data": {
            "text/plain": [
              "<Figure size 432x288 with 1 Axes>"
            ],
            "image/png": "[encoded data removed]"
          },
          "metadata": {
            "needs_background": "light"
          }
        }
      ]
    },
    {
      "cell_type": "code",
      "source": [
        "# check\n",
        "model = models.resnet18(weights = True)\n",
        "num_ftrs = model.fc.in_features\n",
        "model.fc = nn.Linear(num_ftrs, len(classes))\n",
        "model.load_state_dict(torch.load('resnet_20_epochs.pt'))\n",
        "model.eval()\n",
        "\n",
        "for idx, data in enumerate(val_dl):\n",
        "  out = model(data[0])\n",
        "  _, y_hat = out.max(1)\n",
        "  print(y_hat)\n",
        "  print(data[1])\n",
        "  break\n"
      ],
      "metadata": {
        "id": "aUxTTdK4ctWa",
        "colab": {
          "base_uri": "https://localhost:8080/"
        },
        "outputId": "74c3da1b-420a-4e15-f785-21c4d3b26a6d"
      },
      "execution_count": 20,
      "outputs": [
        {
          "output_type": "stream",
          "name": "stderr",
          "text": [
            "/usr/local/lib/python3.7/dist-packages/torchvision/models/_utils.py:223: UserWarning: Arguments other than a weight enum or `None` for 'weights' are deprecated since 0.13 and will be removed in 0.15. The current behavior is equivalent to passing `weights=ResNet18_Weights.IMAGENET1K_V1`. You can also use `weights=ResNet18_Weights.DEFAULT` to get the most up-to-date weights.\n",
            "  warnings.warn(msg)\n"
          ]
        },
        {
          "output_type": "stream",
          "name": "stdout",
          "text": [
            "tensor([5, 5, 8, 1, 8, 1, 8, 3, 6, 7, 2, 0, 4, 7, 9, 5, 0, 8, 0, 8, 7, 3, 8, 0,\n",
            "        1, 5, 9, 0, 0, 2, 5, 6, 0, 9, 9, 8, 4, 7, 2, 5, 9, 8, 8, 4, 1, 0, 2, 3,\n",
            "        4, 2, 5, 9, 7, 0, 6, 8, 7, 6, 7, 6, 0, 5, 5, 0])\n",
            "tensor([5, 5, 8, 1, 8, 1, 8, 9, 6, 8, 2, 0, 4, 7, 9, 5, 0, 8, 0, 8, 7, 3, 8, 0,\n",
            "        1, 5, 1, 0, 7, 2, 5, 1, 0, 9, 9, 8, 4, 5, 2, 5, 9, 6, 8, 4, 1, 8, 3, 3,\n",
            "        4, 2, 1, 9, 7, 0, 6, 8, 7, 3, 7, 2, 0, 4, 5, 0])\n"
          ]
        }
      ]
    },
    {
      "cell_type": "code",
      "source": [
        ""
      ],
      "metadata": {
        "id": "YmE4lfZ6pDnD"
      },
      "execution_count": null,
      "outputs": []
    }
  ]
}